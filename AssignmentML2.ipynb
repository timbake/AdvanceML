{
    "nbformat_minor": 1, 
    "cells": [
        {
            "source": "This is the second assignment for the Coursera course \"Advanced Machine Learning and Signal Processing\"\n\nAgain, please insert to code to your ApacheCouchDB based Cloudant instance below using the \"Insert Code\" function of Watson Studio( you've done this in Assignment 1 before)\n\nDone, just execute all cells one after the other and you are done - just note that in the last one you have to update your email address (the one you've used for coursera) and obtain a submission token, you get this from the programming assignment directly on coursera.\n\nPlease fill in the sections labelled with \"###YOUR_CODE_GOES_HERE###\"", 
            "cell_type": "markdown", 
            "metadata": {}
        }, 
        {
            "execution_count": 1, 
            "cell_type": "code", 
            "metadata": {}, 
            "outputs": [], 
            "source": "#your cloudant credentials go here\n###YOUR_CODE_GOES_HERE###\"\n\n"
        }, 
        {
            "source": "Let's create a SparkSession object and put the Cloudant credentials into it", 
            "cell_type": "markdown", 
            "metadata": {}
        }, 
        {
            "execution_count": 2, 
            "cell_type": "code", 
            "metadata": {}, 
            "outputs": [], 
            "source": "spark = SparkSession\\\n    .builder\\\n    .appName(\"Cloudant Spark SQL Example in Python using temp tables\")\\\n    .config(\"cloudant.host\",credentials_1['custom_url'].split('@')[1])\\\n    .config(\"cloudant.username\", credentials_1['username'])\\\n    .config(\"cloudant.password\",credentials_1['password'])\\\n    .config(\"jsonstore.rdd.partitions\", 1)\\\n    .getOrCreate()"
        }, 
        {
            "source": "Now it\u2019s time to have a look at the recorded sensor data. You should see data similar to the one exemplified below\u2026.\n", 
            "cell_type": "markdown", 
            "metadata": {}
        }, 
        {
            "execution_count": 3, 
            "cell_type": "code", 
            "metadata": {}, 
            "outputs": [
                {
                    "output_type": "stream", 
                    "name": "stdout", 
                    "text": "+-----+--------+-----+-----+-----+--------------------+--------------------+\n|CLASS|SENSORID|    X|    Y|    Z|                 _id|                _rev|\n+-----+--------+-----+-----+-----+--------------------+--------------------+\n|    1|aaaaaaaa|-0.02|-0.02|-0.02|175de817e9ba9c70b...|1-2a4c03e5d983364...|\n|    1|aaaaaaaa|-0.01|-0.01|-0.01|175de817e9ba9c70b...|1-aedd08521768e86...|\n|    1|aaaaaaaa|-0.02|-0.02|-0.02|175de817e9ba9c70b...|1-2a4c03e5d983364...|\n|    1|aaaaaaaa|-0.01|-0.01|-0.01|175de817e9ba9c70b...|1-aedd08521768e86...|\n|    1|aaaaaaaa|-0.02|-0.02|-0.02|175de817e9ba9c70b...|1-2a4c03e5d983364...|\n|    1|aaaaaaaa| 0.01| 0.01| 0.01|175de817e9ba9c70b...|1-50911026f3d1209...|\n|    1|aaaaaaaa| 0.01| 0.01| 0.01|175de817e9ba9c70b...|1-50911026f3d1209...|\n|    1|aaaaaaaa| 0.19| 0.19| 0.19|175de817e9ba9c70b...|1-fb4ef4cb99a62a5...|\n|    1|aaaaaaaa| 0.01| 0.01| 0.01|175de817e9ba9c70b...|1-50911026f3d1209...|\n|    1|aaaaaaaa|-0.02|-0.02|-0.02|175de817e9ba9c70b...|1-2a4c03e5d983364...|\n|    1|aaaaaaaa|  0.0|  0.0|  0.0|175de817e9ba9c70b...|1-714c9494227f549...|\n|    1|aaaaaaaa|-0.01|-0.01|-0.01|175de817e9ba9c70b...|1-aedd08521768e86...|\n|    1|aaaaaaaa|-0.02|-0.02|-0.02|175de817e9ba9c70b...|1-2a4c03e5d983364...|\n|    1|aaaaaaaa|-0.03|-0.03|-0.03|175de817e9ba9c70b...|1-ce3af0656132cb4...|\n|    1|aaaaaaaa|  0.0|  0.0|  0.0|175de817e9ba9c70b...|1-714c9494227f549...|\n|    1|aaaaaaaa|-0.03|-0.03|-0.03|175de817e9ba9c70b...|1-ce3af0656132cb4...|\n|    1|aaaaaaaa|-0.01|-0.01|-0.01|175de817e9ba9c70b...|1-aedd08521768e86...|\n|    1|aaaaaaaa|-0.01|-0.01|-0.01|175de817e9ba9c70b...|1-aedd08521768e86...|\n|    1|aaaaaaaa|-0.01|-0.01|-0.01|175de817e9ba9c70b...|1-aedd08521768e86...|\n|    1|aaaaaaaa|-0.01|-0.01|-0.01|175de817e9ba9c70b...|1-aedd08521768e86...|\n+-----+--------+-----+-----+-----+--------------------+--------------------+\nonly showing top 20 rows\n\n"
                }
            ], 
            "source": "df=spark.read.load('shake_classification', \"com.cloudant.spark\")\n\ndf.createOrReplaceTempView(\"df\")\nspark.sql(\"SELECT * from df\").show()\n"
        }, 
        {
            "source": "Please create a VectorAssembler which consumed columns X, Y and Z and produces a column \u201cfeatures\u201d\n", 
            "cell_type": "markdown", 
            "metadata": {}
        }, 
        {
            "execution_count": 26, 
            "cell_type": "code", 
            "metadata": {}, 
            "outputs": [], 
            "source": "from pyspark.ml.feature import VectorAssembler\nvectorAssembler = ###YOUR_CODE_GOES_HERE###\""
        }, 
        {
            "source": "Please insatiate a classifier from the SparkML package and assign it to the classifier variable. Make sure to either\n1.\tRename the \u201cCLASS\u201d column to \u201clabel\u201d or\n2.\tSpecify the label-column correctly to be \u201cCLASS\u201d\n", 
            "cell_type": "markdown", 
            "metadata": {}
        }, 
        {
            "execution_count": 27, 
            "cell_type": "code", 
            "metadata": {}, 
            "outputs": [], 
            "source": "from pyspark.ml.classification import ###YOUR_CODE_GOES_HERE###\"\n\nclassifier = ###YOUR_CODE_GOES_HERE###\"\n\n"
        }, 
        {
            "source": "Let\u2019s train and evaluate\u2026\n", 
            "cell_type": "markdown", 
            "metadata": {}
        }, 
        {
            "execution_count": 28, 
            "cell_type": "code", 
            "metadata": {}, 
            "outputs": [], 
            "source": "from pyspark.ml import Pipeline\npipeline = Pipeline(stages=[vectorAssembler, classifier])"
        }, 
        {
            "execution_count": 29, 
            "cell_type": "code", 
            "metadata": {}, 
            "outputs": [], 
            "source": "model = pipeline.fit(df)"
        }, 
        {
            "execution_count": 31, 
            "cell_type": "code", 
            "metadata": {}, 
            "outputs": [], 
            "source": "prediction = model.transform(df)"
        }, 
        {
            "execution_count": 35, 
            "cell_type": "code", 
            "metadata": {}, 
            "outputs": [
                {
                    "output_type": "stream", 
                    "name": "stdout", 
                    "text": "+-----+-----+--------+-----+-----+-----+--------------------+--------------------+-------------------+----------+\n|label|CLASS|SENSORID|    X|    Y|    Z|                 _id|                _rev|           features|prediction|\n+-----+-----+--------+-----+-----+-----+--------------------+--------------------+-------------------+----------+\n|    0|    1|aaaaaaaa|-0.02|-0.02|-0.02|175de817e9ba9c70b...|1-2a4c03e5d983364...|[-0.02,-0.02,-0.02]|       0.0|\n|    0|    1|aaaaaaaa|-0.01|-0.01|-0.01|175de817e9ba9c70b...|1-aedd08521768e86...|[-0.01,-0.01,-0.01]|       0.0|\n|    0|    1|aaaaaaaa|-0.02|-0.02|-0.02|175de817e9ba9c70b...|1-2a4c03e5d983364...|[-0.02,-0.02,-0.02]|       0.0|\n|    0|    1|aaaaaaaa|-0.01|-0.01|-0.01|175de817e9ba9c70b...|1-aedd08521768e86...|[-0.01,-0.01,-0.01]|       0.0|\n|    0|    1|aaaaaaaa|-0.02|-0.02|-0.02|175de817e9ba9c70b...|1-2a4c03e5d983364...|[-0.02,-0.02,-0.02]|       0.0|\n|    0|    1|aaaaaaaa| 0.01| 0.01| 0.01|175de817e9ba9c70b...|1-50911026f3d1209...|   [0.01,0.01,0.01]|       0.0|\n|    0|    1|aaaaaaaa| 0.01| 0.01| 0.01|175de817e9ba9c70b...|1-50911026f3d1209...|   [0.01,0.01,0.01]|       0.0|\n|    0|    1|aaaaaaaa| 0.19| 0.19| 0.19|175de817e9ba9c70b...|1-fb4ef4cb99a62a5...|   [0.19,0.19,0.19]|       0.0|\n|    0|    1|aaaaaaaa| 0.01| 0.01| 0.01|175de817e9ba9c70b...|1-50911026f3d1209...|   [0.01,0.01,0.01]|       0.0|\n|    0|    1|aaaaaaaa|-0.02|-0.02|-0.02|175de817e9ba9c70b...|1-2a4c03e5d983364...|[-0.02,-0.02,-0.02]|       0.0|\n|    0|    1|aaaaaaaa|  0.0|  0.0|  0.0|175de817e9ba9c70b...|1-714c9494227f549...|          (3,[],[])|       0.0|\n|    0|    1|aaaaaaaa|-0.01|-0.01|-0.01|175de817e9ba9c70b...|1-aedd08521768e86...|[-0.01,-0.01,-0.01]|       0.0|\n|    0|    1|aaaaaaaa|-0.02|-0.02|-0.02|175de817e9ba9c70b...|1-2a4c03e5d983364...|[-0.02,-0.02,-0.02]|       0.0|\n|    0|    1|aaaaaaaa|-0.03|-0.03|-0.03|175de817e9ba9c70b...|1-ce3af0656132cb4...|[-0.03,-0.03,-0.03]|       0.0|\n|    0|    1|aaaaaaaa|  0.0|  0.0|  0.0|175de817e9ba9c70b...|1-714c9494227f549...|          (3,[],[])|       0.0|\n|    0|    1|aaaaaaaa|-0.03|-0.03|-0.03|175de817e9ba9c70b...|1-ce3af0656132cb4...|[-0.03,-0.03,-0.03]|       0.0|\n|    0|    1|aaaaaaaa|-0.01|-0.01|-0.01|175de817e9ba9c70b...|1-aedd08521768e86...|[-0.01,-0.01,-0.01]|       0.0|\n|    0|    1|aaaaaaaa|-0.01|-0.01|-0.01|175de817e9ba9c70b...|1-aedd08521768e86...|[-0.01,-0.01,-0.01]|       0.0|\n|    0|    1|aaaaaaaa|-0.01|-0.01|-0.01|175de817e9ba9c70b...|1-aedd08521768e86...|[-0.01,-0.01,-0.01]|       0.0|\n|    0|    1|aaaaaaaa|-0.01|-0.01|-0.01|175de817e9ba9c70b...|1-aedd08521768e86...|[-0.01,-0.01,-0.01]|       0.0|\n+-----+-----+--------+-----+-----+-----+--------------------+--------------------+-------------------+----------+\nonly showing top 20 rows\n\n"
                }
            ], 
            "source": "prediction.show()"
        }, 
        {
            "execution_count": 32, 
            "cell_type": "code", 
            "metadata": {}, 
            "outputs": [
                {
                    "execution_count": 32, 
                    "metadata": {}, 
                    "data": {
                        "text/plain": "0.631578947368421"
                    }, 
                    "output_type": "execute_result"
                }
            ], 
            "source": "from pyspark.ml.evaluation import MulticlassClassificationEvaluator\nbinEval = MulticlassClassificationEvaluator().setMetricName(\"accuracy\") .setPredictionCol(\"prediction\").setLabelCol(\"label\")\n    \nbinEval.evaluate(prediction) "
        }, 
        {
            "source": "If you are happy with the result (I\u2019m happy with > 0.55) please submit your solution to the grader by executing the following cells, please don\u2019t forget to obtain an assignment submission token (secret) from the Courera\u2019s graders web page and paste it to the \u201csecret\u201d variable below, including your email address you\u2019ve used for Coursera. (0.55 means that you are performing better than random guesses)\n", 
            "cell_type": "markdown", 
            "metadata": {}
        }, 
        {
            "execution_count": 36, 
            "cell_type": "code", 
            "metadata": {}, 
            "outputs": [], 
            "source": "!rm -Rf a2_m2.json"
        }, 
        {
            "execution_count": 37, 
            "cell_type": "code", 
            "metadata": {}, 
            "outputs": [], 
            "source": "prediction = prediction.repartition(1)\nprediction.write.json('a2_m2.json')"
        }, 
        {
            "execution_count": null, 
            "cell_type": "code", 
            "metadata": {}, 
            "outputs": [], 
            "source": "!rm -f rklib.py\n!wget https://raw.githubusercontent.com/romeokienzler/developerWorks/master/coursera/ai/rklib.py"
        }, 
        {
            "execution_count": 39, 
            "cell_type": "code", 
            "metadata": {
                "collapsed": true
            }, 
            "outputs": [
                {
                    "output_type": "stream", 
                    "name": "stdout", 
                    "text": "  adding: a2_m2.parquet/ (stored 0%)\r\n  adding: a2_m2.parquet/.part-00000-1ff92a81-68c8-446b-a54e-a042a8fd7f1e.snappy.parquet.crc (stored 0%)\r\n  adding: a2_m2.parquet/part-00000-1ff92a81-68c8-446b-a54e-a042a8fd7f1e.snappy.parquet (deflated 44%)\r\n  adding: a2_m2.parquet/_SUCCESS (stored 0%)\r\n  adding: a2_m2.parquet/._SUCCESS.crc (stored 0%)\r\n"
                }
            ], 
            "source": "!zip -r a2_m2.json.zip a2_m2.json"
        }, 
        {
            "execution_count": 41, 
            "cell_type": "code", 
            "metadata": {}, 
            "outputs": [], 
            "source": "!base64 a2_m2.json.zip > a2_m2.json.zip.base64"
        }, 
        {
            "execution_count": 1, 
            "cell_type": "code", 
            "metadata": {}, 
            "outputs": [
                {
                    "output_type": "stream", 
                    "name": "stdout", 
                    "text": "Submission successful, please check on the coursera grader page for the status\n"
                }
            ], 
            "source": "from rklib import submit\nkey = \"J3sDL2J8EeiaXhILFWw2-g\"\npart = \"G4P6f\"\nemail = ###YOUR_CODE_GOES_HERE###\"\nsecret = ###YOUR_CODE_GOES_HERE###\"\n\nwith open('a2_m2.json.zip.base64', 'r') as myfile:\n    data=myfile.read()\nsubmit(email, secret, key, part, [part], data)"
        }
    ], 
    "metadata": {
        "kernelspec": {
            "display_name": "Python 3.5 with Spark 2.1", 
            "name": "python3-spark21", 
            "language": "python"
        }, 
        "language_info": {
            "mimetype": "text/x-python", 
            "nbconvert_exporter": "python", 
            "version": "3.5.4", 
            "name": "python", 
            "file_extension": ".py", 
            "pygments_lexer": "ipython3", 
            "codemirror_mode": {
                "version": 3, 
                "name": "ipython"
            }
        }
    }, 
    "nbformat": 4
}