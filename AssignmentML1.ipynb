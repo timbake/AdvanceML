{
    "nbformat_minor": 1, 
    "cells": [
        {
            "source": "This is the first assgiment for the Coursera course \"Advanced Machine Learning and Signal Processing\"\n\nThe first step is to insert the credentials to the Apache CouchDB / Cloudant database where your sensor data ist stored to. \n\n1. In the project's overview tab of this project just select \"Add to project\"->Connection\n2. From the section \"Your service instances in IBM Cloud\" select your cloudant database and click on \"create\"\n3. Now click in the empty cell below labeled with \"your cloudant credentials go here\"\n4. Click on the \"10-01\" symbol top right and selecrt the \"Connections\" tab\n5. Find your data base connection and click on \"Insert to code\"\n\nThe following video illustrates this process: https://www.youtube.com/watch?v=dCawUGv7qgs\n\nDone, just execute all cells one after the other and you are done - just note that in the last one you have to update your email address (the one you've used for coursera) and obtain a submittion token, you get this from the programming assingment directly on coursera.", 
            "cell_type": "markdown", 
            "metadata": {}
        }, 
        {
            "execution_count": 1, 
            "cell_type": "code", 
            "metadata": {}, 
            "outputs": [], 
            "source": "# The code was removed by Watson Studio for sharing."
        }, 
        {
            "execution_count": 2, 
            "cell_type": "code", 
            "metadata": {}, 
            "outputs": [], 
            "source": "spark = SparkSession\\\n    .builder\\\n    .appName(\"Cloudant Spark SQL Example in Python using temp tables\")\\\n    .config(\"cloudant.host\",credentials_1['custom_url'].split('@')[1])\\\n    .config(\"cloudant.username\", credentials_1['username'])\\\n    .config(\"cloudant.password\",credentials_1['password'])\\\n    .config(\"jsonstore.rdd.partitions\", 1)\\\n    .getOrCreate()"
        }, 
        {
            "execution_count": 3, 
            "cell_type": "code", 
            "metadata": {}, 
            "outputs": [
                {
                    "output_type": "stream", 
                    "name": "stdout", 
                    "text": "+-----+-------------+---+---+---+--------------------+--------------------+\n|CLASS|     SENSORID|  X|  Y|  Z|                 _id|                _rev|\n+-----+-------------+---+---+---+--------------------+--------------------+\n|    0|TimbakeIphone|  0|  0|  0|0442003469d9dc6cc...|1-4b6951fbabfcf9a...|\n|    0|TimbakeIphone|  0|  0|  0|0442003469d9dc6cc...|1-4b6951fbabfcf9a...|\n|    0|TimbakeIphone|  0|  0|  0|0442003469d9dc6cc...|1-4b6951fbabfcf9a...|\n|    0|TimbakeIphone|  0|  0|  0|0442003469d9dc6cc...|1-4b6951fbabfcf9a...|\n|    0|TimbakeIphone|  0|  0|  0|0442003469d9dc6cc...|1-4b6951fbabfcf9a...|\n|    0|TimbakeIphone|  0|  0|  0|0442003469d9dc6cc...|1-4b6951fbabfcf9a...|\n|    0|TimbakeIphone|  0|  0|  0|0442003469d9dc6cc...|1-4b6951fbabfcf9a...|\n|    0|TimbakeIphone|  0|  0|  0|0442003469d9dc6cc...|1-4b6951fbabfcf9a...|\n|    0|TimbakeIphone|  0|  0|  0|0442003469d9dc6cc...|1-4b6951fbabfcf9a...|\n|    0|TimbakeIphone|  0|  0|  0|0442003469d9dc6cc...|1-4b6951fbabfcf9a...|\n|    0|TimbakeIphone|  0|  0|  0|0442003469d9dc6cc...|1-4b6951fbabfcf9a...|\n|    0|TimbakeIphone|  0|  0|  0|0442003469d9dc6cc...|1-4b6951fbabfcf9a...|\n|    0|TimbakeIphone|  0|  0|  0|0442003469d9dc6cc...|1-4b6951fbabfcf9a...|\n|    0|TimbakeIphone|  0|  0|  0|0442003469d9dc6cc...|1-4b6951fbabfcf9a...|\n|    0|TimbakeIphone|  0|  0|  0|0442003469d9dc6cc...|1-4b6951fbabfcf9a...|\n|    0|TimbakeIphone|  0|  0|  0|0442003469d9dc6cc...|1-4b6951fbabfcf9a...|\n|    0|TimbakeIphone|  0|  0|  0|0442003469d9dc6cc...|1-4b6951fbabfcf9a...|\n|    0|TimbakeIphone|  0|  0|  0|0442003469d9dc6cc...|1-4b6951fbabfcf9a...|\n|    0|TimbakeIphone|  0|  0|  0|0442003469d9dc6cc...|1-4b6951fbabfcf9a...|\n|    0|TimbakeIphone|  0|  0|  0|0442003469d9dc6cc...|1-4b6951fbabfcf9a...|\n+-----+-------------+---+---+---+--------------------+--------------------+\nonly showing top 20 rows\n\n"
                }
            ], 
            "source": "df=spark.read.load('shake', \"com.cloudant.spark\")\n\ndf.createOrReplaceTempView(\"df\")\nspark.sql(\"SELECT * from df\").show()\n"
        }, 
        {
            "execution_count": 4, 
            "cell_type": "code", 
            "metadata": {}, 
            "outputs": [], 
            "source": "!rm -Rf a2_m1.parquet"
        }, 
        {
            "execution_count": 5, 
            "cell_type": "code", 
            "metadata": {}, 
            "outputs": [], 
            "source": "df = df.repartition(1)\ndf.write.json('a2_m1.json')"
        }, 
        {
            "execution_count": 6, 
            "cell_type": "code", 
            "metadata": {}, 
            "outputs": [
                {
                    "output_type": "stream", 
                    "name": "stdout", 
                    "text": "--2018-10-25 22:15:55--  https://raw.githubusercontent.com/romeokienzler/developerWorks/master/coursera/ai/rklib.py\nResolving raw.githubusercontent.com (raw.githubusercontent.com)... 151.101.48.133\nConnecting to raw.githubusercontent.com (raw.githubusercontent.com)|151.101.48.133|:443... connected.\nHTTP request sent, awaiting response... 200 OK\nLength: 2029 (2.0K) [text/plain]\nSaving to: \u2018rklib.py\u2019\n\n100%[======================================>] 2,029       --.-K/s   in 0s      \n\n2018-10-25 22:15:55 (12.6 MB/s) - \u2018rklib.py\u2019 saved [2029/2029]\n\n"
                }
            ], 
            "source": "!rm -f rklib.py\n!wget https://raw.githubusercontent.com/romeokienzler/developerWorks/master/coursera/ai/rklib.py"
        }, 
        {
            "execution_count": 7, 
            "cell_type": "code", 
            "metadata": {}, 
            "outputs": [
                {
                    "output_type": "stream", 
                    "name": "stdout", 
                    "text": "  adding: a2_m1.json/ (stored 0%)\n  adding: a2_m1.json/_SUCCESS (stored 0%)\n  adding: a2_m1.json/._SUCCESS.crc (stored 0%)\n  adding: a2_m1.json/.part-00000-7c442d0e-734c-4878-a637-8f458686fb1d.json.crc (stored 0%)\n  adding: a2_m1.json/part-00000-7c442d0e-734c-4878-a637-8f458686fb1d.json (deflated 96%)\n"
                }
            ], 
            "source": "!zip -r a2_m1.json.zip a2_m1.json"
        }, 
        {
            "execution_count": 8, 
            "cell_type": "code", 
            "metadata": {}, 
            "outputs": [], 
            "source": "!base64 a2_m1.json.zip > a2_m1.json.zip.base64"
        }, 
        {
            "execution_count": 11, 
            "cell_type": "code", 
            "metadata": {}, 
            "outputs": [
                {
                    "output_type": "stream", 
                    "name": "stdout", 
                    "text": "Submission successful, please check on the coursera grader page for the status\n"
                }
            ], 
            "source": "from rklib import submit\nkey = \"1injH2F0EeiLlRJ3eJKoXA\"\npart = \"wNLDt\"\n##email = \"romeo.kienzler@ch.ibm.com\"\nemail = \"timbake2007@gmail.com\"\nsecret = \"xlIqMSkaOGV3D8o7\"\n\nwith open('a2_m1.json.zip.base64', 'r') as myfile:\n    data=myfile.read()\nsubmit(email, secret, key, part, [part], data)"
        }, 
        {
            "execution_count": null, 
            "cell_type": "code", 
            "metadata": {}, 
            "outputs": [], 
            "source": ""
        }
    ], 
    "metadata": {
        "kernelspec": {
            "display_name": "Python 3.5 with Spark 2.1", 
            "name": "python3-spark21", 
            "language": "python"
        }, 
        "language_info": {
            "mimetype": "text/x-python", 
            "nbconvert_exporter": "python", 
            "version": "3.5.4", 
            "name": "python", 
            "file_extension": ".py", 
            "pygments_lexer": "ipython3", 
            "codemirror_mode": {
                "version": 3, 
                "name": "ipython"
            }
        }
    }, 
    "nbformat": 4
}